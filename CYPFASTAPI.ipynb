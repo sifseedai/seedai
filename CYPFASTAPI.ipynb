{
 "cells": [
  {
   "cell_type": "code",
   "execution_count": null,
   "id": "873f5fff",
   "metadata": {},
   "outputs": [
    {
     "name": "stderr",
     "output_type": "stream",
     "text": [
      "C:\\Users\\shaik\\anaconda3\\lib\\site-packages\\pycaret\\internal\\pipeline.py:146: UserWarning: Version mismatch:\n",
      "current: {'deps_info': {'pip': '22.3.1', 'setuptools': '65.6.3', 'pycaret': '3.3.0', 'IPython': '8.10.0', 'ipywidgets': '7.6.5', 'tqdm': '4.64.1', 'numpy': '1.23.5', 'pandas': '1.5.3', 'jinja2': '3.1.2', 'scipy': '1.10.0', 'joblib': '1.3.2', 'sklearn': '1.4.2', 'pyod': '1.1.3', 'imblearn': '0.12.0', 'category_encoders': '2.6.3', 'lightgbm': '4.3.0', 'numba': '0.56.4', 'requests': '2.31.0', 'matplotlib': '3.7.0', 'scikitplot': '0.3.7', 'yellowbrick': '1.5', 'plotly': '5.19.0', 'plotly-resampler': 'Not installed', 'kaleido': '0.2.1', 'schemdraw': '0.15', 'statsmodels': '0.13.5', 'sktime': '0.27.0', 'tbats': '1.1.3', 'pmdarima': '2.0.4', 'psutil': '5.9.0', 'markupsafe': '2.1.1', 'pickle5': 'Not installed', 'cloudpickle': '2.0.0', 'deprecation': '2.1.0', 'xxhash': '3.4.1', 'wurlitzer': 'Not installed'}, 'python': {'version': '3.10.9', 'machine': 'AMD64'}}\n",
      "pickle: {'deps_info': {'pip': '22.3.1', 'setuptools': '65.6.3', 'pycaret': '3.3.0', 'IPython': '8.10.0', 'ipywidgets': '7.6.5', 'tqdm': '4.64.1', 'numpy': '1.23.5', 'pandas': '1.5.3', 'jinja2': '3.1.2', 'scipy': '1.10.0', 'joblib': '1.3.2', 'sklearn': '1.4.2', 'pyod': '1.1.3', 'imblearn': '0.12.0', 'category_encoders': '2.6.3', 'lightgbm': '4.3.0', 'numba': '0.56.4', 'requests': '2.28.1', 'matplotlib': '3.7.0', 'scikitplot': '0.3.7', 'yellowbrick': '1.5', 'plotly': '5.19.0', 'plotly-resampler': 'Not installed', 'kaleido': '0.2.1', 'schemdraw': '0.15', 'statsmodels': '0.13.5', 'sktime': '0.27.0', 'tbats': '1.1.3', 'pmdarima': '2.0.4', 'psutil': '5.9.0', 'markupsafe': '2.1.1', 'pickle5': 'Not installed', 'cloudpickle': '2.0.0', 'deprecation': '2.1.0', 'xxhash': '3.4.1', 'wurlitzer': 'Not installed'}, 'python': {'version': '3.10.9', 'machine': 'AMD64'}}\n",
      "  warnings.warn(\n"
     ]
    },
    {
     "name": "stdout",
     "output_type": "stream",
     "text": [
      "Transformation Pipeline and Model Successfully Loaded\n"
     ]
    },
    {
     "name": "stderr",
     "output_type": "stream",
     "text": [
      "INFO:     Started server process [9788]\n",
      "INFO:     Waiting for application startup.\n",
      "INFO:     Application startup complete.\n",
      "INFO:     Uvicorn running on http://127.0.0.1:8000 (Press CTRL+C to quit)\n",
      "Task exception was never retrieved\n",
      "future: <Task finished name='Task-90' coro=<Server.serve() done, defined at C:\\Users\\shaik\\anaconda3\\lib\\site-packages\\uvicorn\\server.py:67> exception=KeyboardInterrupt()>\n",
      "Traceback (most recent call last):\n",
      "  File \"C:\\Users\\shaik\\anaconda3\\lib\\site-packages\\IPython\\core\\interactiveshell.py\", line 3460, in run_code\n",
      "    exec(code_obj, self.user_global_ns, self.user_ns)\n",
      "  File \"C:\\Users\\shaik\\AppData\\Local\\Temp\\ipykernel_9788\\2915076161.py\", line 31, in <module>\n",
      "    uvicorn.run(app, host=\"127.0.0.1\", port=8000)\n",
      "  File \"C:\\Users\\shaik\\anaconda3\\lib\\site-packages\\uvicorn\\main.py\", line 575, in run\n",
      "    server.run()\n",
      "  File \"C:\\Users\\shaik\\anaconda3\\lib\\site-packages\\uvicorn\\server.py\", line 65, in run\n",
      "    return asyncio.run(self.serve(sockets=sockets))\n",
      "  File \"C:\\Users\\shaik\\anaconda3\\lib\\site-packages\\nest_asyncio.py\", line 35, in run\n",
      "    return loop.run_until_complete(task)\n",
      "  File \"C:\\Users\\shaik\\anaconda3\\lib\\site-packages\\nest_asyncio.py\", line 84, in run_until_complete\n",
      "    self._run_once()\n",
      "  File \"C:\\Users\\shaik\\anaconda3\\lib\\site-packages\\nest_asyncio.py\", line 120, in _run_once\n",
      "    handle._run()\n",
      "  File \"C:\\Users\\shaik\\anaconda3\\lib\\asyncio\\events.py\", line 80, in _run\n",
      "    self._context.run(self._callback, *self._args)\n",
      "  File \"C:\\Users\\shaik\\anaconda3\\lib\\asyncio\\tasks.py\", line 315, in __wakeup\n",
      "    self.__step()\n",
      "  File \"C:\\Users\\shaik\\anaconda3\\lib\\site-packages\\nest_asyncio.py\", line 196, in step\n",
      "    step_orig(task, exc)\n",
      "  File \"C:\\Users\\shaik\\anaconda3\\lib\\asyncio\\tasks.py\", line 232, in __step\n",
      "    result = coro.send(None)\n",
      "  File \"C:\\Users\\shaik\\anaconda3\\lib\\site-packages\\uvicorn\\server.py\", line 68, in serve\n",
      "    with self.capture_signals():\n",
      "  File \"C:\\Users\\shaik\\anaconda3\\lib\\contextlib.py\", line 142, in __exit__\n",
      "    next(self.gen)\n",
      "  File \"C:\\Users\\shaik\\anaconda3\\lib\\site-packages\\uvicorn\\server.py\", line 328, in capture_signals\n",
      "    signal.raise_signal(captured_signal)\n",
      "KeyboardInterrupt\n"
     ]
    },
    {
     "name": "stdout",
     "output_type": "stream",
     "text": [
      "INFO:     127.0.0.1:59406 - \"POST /predict?N=90&P=42&K=43&temperature=20&humidity=82&ph=6&rainfall=202 HTTP/1.1\" 200 OK\n",
      "INFO:     127.0.0.1:59409 - \"POST /predict?N=90&P=42&K=43&temperature=20.87974371&humidity=82.00274423&ph=6.502985292&rainfall=202.9355362 HTTP/1.1\" 200 OK\n",
      "INFO:     127.0.0.1:60551 - \"GET /predict?N=85&P=58&K=41&temperature=21.0&humidity=80.0&ph=7.0&rainfall=220.0 HTTP/1.1\" 405 Method Not Allowed\n",
      "INFO:     127.0.0.1:60595 - \"POST /predict?N=20&P=49&K=80&temperature=7.0&humidity=7.0&ph=20.0&rainfall=220.0 HTTP/1.1\" 200 OK\n",
      "INFO:     127.0.0.1:60664 - \"POST /predict?N=60&P=55&K=44&temperature=23.0&humidity=82.0&ph=7.0&rainfall=260.0 HTTP/1.1\" 200 OK\n"
     ]
    }
   ],
   "source": [
    "from fastapi import FastAPI\n",
    "from pycaret.classification import load_model, predict_model\n",
    "import pandas as pd\n",
    "import uvicorn\n",
    "import json\n",
    "\n",
    "# Define FastAPI app\n",
    "app = FastAPI()\n",
    "\n",
    "# Load the trained PyCaret model\n",
    "model = load_model('seedai_cyp')\n",
    "\n",
    "# Define prediction endpoint\n",
    "@app.post(\"/predict\")\n",
    "async def predict(N: float, P: float, K: float, temperature: float, humidity: float, ph: float, rainfall: float):\n",
    "    input_features = pd.DataFrame({'N': [N],\n",
    "                                   'P': [P],\n",
    "                                   'K': [K],\n",
    "                                   'temperature': [temperature],\n",
    "                                   'humidity': [humidity],\n",
    "                                   'ph': [ph],\n",
    "                                   'rainfall': [rainfall]})\n",
    "    prediction = predict_model(model, data=input_features)\n",
    "    predicted_label = prediction.iloc[0]['prediction_label']  # Assuming the column name for the prediction is 'Label'\n",
    "    return {\"prediction\": predicted_label}\n",
    "\n",
    "# Run the FastAPI app with uvicorn\n",
    "if __name__ == \"__main__\":\n",
    "    import nest_asyncio\n",
    "    nest_asyncio.apply()\n",
    "    uvicorn.run(app, host=\"127.0.0.1\", port=8000)\n"
   ]
  },
  {
   "cell_type": "code",
   "execution_count": null,
   "id": "5f44b2ed",
   "metadata": {},
   "outputs": [],
   "source": []
  },
  {
   "cell_type": "code",
   "execution_count": null,
   "id": "fda691ee",
   "metadata": {},
   "outputs": [],
   "source": []
  }
 ],
 "metadata": {
  "kernelspec": {
   "display_name": "Python 3 (ipykernel)",
   "language": "python",
   "name": "python3"
  },
  "language_info": {
   "codemirror_mode": {
    "name": "ipython",
    "version": 3
   },
   "file_extension": ".py",
   "mimetype": "text/x-python",
   "name": "python",
   "nbconvert_exporter": "python",
   "pygments_lexer": "ipython3",
   "version": "3.10.9"
  }
 },
 "nbformat": 4,
 "nbformat_minor": 5
}
